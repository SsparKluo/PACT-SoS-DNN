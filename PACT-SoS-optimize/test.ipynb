{
 "cells": [
  {
   "cell_type": "code",
   "execution_count": null,
   "metadata": {},
   "outputs": [],
   "source": [
    "import numpy as np\n",
    "import random\n",
    "import math\n",
    "import glob\n",
    "import cv2\n",
    "\n",
    "path = '../simulation/'\n",
    "paths = glob.glob( path + \"t[0-9]*\")\n",
    "maps = np.arange(len(paths)*12)\n",
    "random.shuffle(maps)\n",
    "lens = len(maps)"
   ]
  },
  {
   "cell_type": "code",
   "execution_count": null,
   "metadata": {},
   "outputs": [],
   "source": [
    "math.ceil(lens / 32)"
   ]
  },
  {
   "cell_type": "code",
   "execution_count": null,
   "metadata": {},
   "outputs": [],
   "source": [
    "batch_paths = maps[0 * 32: 1 * 32]\n",
    "inputs = []\n",
    "targets = []\n",
    "for index in batch_paths:\n",
    "    input_filenames = glob.glob(paths[index // 12] + \"/SoS*.png\")\n",
    "    target_filenames = glob.glob(paths[index // 12] + \"/GT*.png\")\n",
    "    y = (index % 12 // 4) * 256\n",
    "    x = (index % 12 % 4) * 256\n",
    "    inputs.append([cv2.imread(filename, 0)[x:x+256,y:y+256]\n",
    "                    for filename in input_filenames])\n",
    "    targets.append([cv2.imread(filename, 0)[x:x+256,y:y+256]\n",
    "                    for filename in target_filenames])\n",
    "#x = np.moveaxis(np.array(inputs) / 255.0, 1, 3)\n",
    "#y = np.moveaxis(np.array(targets) / 255.0, 1, 3)\n",
    "print(np.array(inputs).shape)\n",
    "print(np.array(targets).shape)"
   ]
  },
  {
   "cell_type": "code",
   "execution_count": 1,
   "metadata": {},
   "outputs": [
    {
     "name": "stderr",
     "output_type": "stream",
     "text": [
      "2022-06-07 16:34:00.426962: I tensorflow/stream_executor/platform/default/dso_loader.cc:53] Successfully opened dynamic library libcudart.so.11.0\n"
     ]
    },
    {
     "ename": "TypeError",
     "evalue": "array() missing required argument 'object' (pos 1)",
     "output_type": "error",
     "traceback": [
      "\u001b[0;31m---------------------------------------------------------------------------\u001b[0m",
      "\u001b[0;31mTypeError\u001b[0m                                 Traceback (most recent call last)",
      "\u001b[0;32m/tmp/ipykernel_445/1354855313.py\u001b[0m in \u001b[0;36m<module>\u001b[0;34m\u001b[0m\n\u001b[1;32m      3\u001b[0m \u001b[0;32mimport\u001b[0m \u001b[0mmatplotlib\u001b[0m\u001b[0;34m.\u001b[0m\u001b[0mpyplot\u001b[0m \u001b[0;32mas\u001b[0m \u001b[0mplt\u001b[0m\u001b[0;34m\u001b[0m\u001b[0;34m\u001b[0m\u001b[0m\n\u001b[1;32m      4\u001b[0m \u001b[0;34m\u001b[0m\u001b[0m\n\u001b[0;32m----> 5\u001b[0;31m \u001b[0mloader\u001b[0m \u001b[0;34m=\u001b[0m \u001b[0mdata_io\u001b[0m\u001b[0;34m.\u001b[0m\u001b[0mImageLoader\u001b[0m\u001b[0;34m(\u001b[0m\u001b[0mbatch_size\u001b[0m\u001b[0;34m=\u001b[0m\u001b[0;36m12\u001b[0m\u001b[0;34m)\u001b[0m\u001b[0;34m\u001b[0m\u001b[0;34m\u001b[0m\u001b[0m\n\u001b[0m",
      "\u001b[0;32m~/autodl-tmp/PACT-SoS-DNN/PACT-SoS-optimize/data_io.py\u001b[0m in \u001b[0;36m__init__\u001b[0;34m(self, path, batch_size, shuffle, mode)\u001b[0m\n\u001b[1;32m    154\u001b[0m                 self.weights[i] = self.len / len(\n\u001b[1;32m    155\u001b[0m                     glob.glob('{}/{}/[0-9]*/y/*'.format(self.path, i)))\n\u001b[0;32m--> 156\u001b[0;31m             \u001b[0mself\u001b[0m\u001b[0;34m.\u001b[0m\u001b[0mweights\u001b[0m\u001b[0;34m[\u001b[0m\u001b[0mi\u001b[0m\u001b[0;34m]\u001b[0m \u001b[0;34m=\u001b[0m \u001b[0mnp\u001b[0m\u001b[0;34m.\u001b[0m\u001b[0marray\u001b[0m\u001b[0;34m(\u001b[0m\u001b[0;34m)\u001b[0m\u001b[0;34m\u001b[0m\u001b[0;34m\u001b[0m\u001b[0m\n\u001b[0m\u001b[1;32m    157\u001b[0m         \u001b[0;32mif\u001b[0m \u001b[0mself\u001b[0m\u001b[0;34m.\u001b[0m\u001b[0mshuffle\u001b[0m \u001b[0;34m==\u001b[0m \u001b[0;32mTrue\u001b[0m\u001b[0;34m:\u001b[0m\u001b[0;34m\u001b[0m\u001b[0;34m\u001b[0m\u001b[0m\n\u001b[1;32m    158\u001b[0m             \u001b[0mrandom\u001b[0m\u001b[0;34m.\u001b[0m\u001b[0mshuffle\u001b[0m\u001b[0;34m(\u001b[0m\u001b[0mself\u001b[0m\u001b[0;34m.\u001b[0m\u001b[0mpaths_y\u001b[0m\u001b[0;34m)\u001b[0m\u001b[0;34m\u001b[0m\u001b[0;34m\u001b[0m\u001b[0m\n",
      "\u001b[0;31mTypeError\u001b[0m: array() missing required argument 'object' (pos 1)"
     ]
    }
   ],
   "source": [
    "import data_io\n",
    "import numpy as np\n",
    "import matplotlib.pyplot as plt\n",
    "\n",
    "loader = data_io.ImageLoader(batch_size=12)"
   ]
  },
  {
   "cell_type": "code",
   "execution_count": null,
   "metadata": {},
   "outputs": [],
   "source": [
    "for epoch in range(1):\n",
    "    for batch_number, (x, y, w) in enumerate(loader):\n",
    "        print(\"batch {}:\".format(batch_number))\n",
    "        print('x_batch:', x.shape)\n",
    "        print('y_batch:', y.shape)\n",
    "        print('w_batch:', w)\n",
    "    print('一个epoch结束=============================')"
   ]
  },
  {
   "cell_type": "code",
   "execution_count": null,
   "metadata": {
    "tags": []
   },
   "outputs": [],
   "source": [
    "x1 = np.moveaxis(x,3,1)\n",
    "for idx, set in enumerate(x1):\n",
    "    for img in set[0:2]:\n",
    "        plt.imshow(img)\n",
    "        plt.show()"
   ]
  },
  {
   "cell_type": "code",
   "execution_count": null,
   "metadata": {
    "tags": []
   },
   "outputs": [],
   "source": [
    "batchs = [y[x:x + 12] for x in range(0, len(y), 12)]\n",
    "result = [batch.reshape(4, 3, 256, 256, 1)\n",
    "          .reshape(1024,768) * 255 for batch in batchs]"
   ]
  },
  {
   "cell_type": "code",
   "execution_count": null,
   "metadata": {},
   "outputs": [],
   "source": [
    "for set in batchs:\n",
    "    for img in set:\n",
    "        plt.imshow(img)\n",
    "        plt.show()\n",
    "    result = set.reshape(4,3,256,256,1).reshape(1024,768,1)\n",
    "    plt.imshow(result)\n",
    "    plt.show()"
   ]
  },
  {
   "cell_type": "code",
   "execution_count": null,
   "metadata": {},
   "outputs": [],
   "source": [
    "from matplotlib import pyplot\n",
    "ix = 1\n",
    "for batch_number, (batch_x, batch_y, w) in enumerate(loader):\n",
    "    for idx, x in enumerate(batch_x):\n",
    "        ax = pyplot.subplot(4, 6, idx%4*6 + idx//4 + 1)\n",
    "        ax.set_xticks([])\n",
    "        ax.set_yticks([])\n",
    "        pyplot.imshow(x[:,:,6], vmin=-1, vmax=1)\n",
    "    for idx, y in enumerate(batch_y):\n",
    "        ax = pyplot.subplot(4, 6, idx%4*6 + idx//4 + 3 + 1)\n",
    "        ax.set_xticks([])\n",
    "        ax.set_yticks([])\n",
    "        pyplot.imshow(y[:,:,0], vmin=-1, vmax=1)\n",
    "    pyplot.show()     "
   ]
  },
  {
   "cell_type": "code",
   "execution_count": null,
   "metadata": {},
   "outputs": [],
   "source": [
    "import glob\n",
    "glob.glob(\"../simulation/\" + \"t[0-9]*\")"
   ]
  },
  {
   "cell_type": "code",
   "execution_count": null,
   "metadata": {},
   "outputs": [],
   "source": []
  }
 ],
 "metadata": {
  "interpreter": {
   "hash": "17f8dacbcae502237c0238b1bfe850fc3d79496547eccc9ebe3ada7d629b8bb2"
  },
  "kernelspec": {
   "display_name": "Python 3 (ipykernel)",
   "language": "python",
   "name": "python3"
  },
  "language_info": {
   "codemirror_mode": {
    "name": "ipython",
    "version": 3
   },
   "file_extension": ".py",
   "mimetype": "text/x-python",
   "name": "python",
   "nbconvert_exporter": "python",
   "pygments_lexer": "ipython3",
   "version": "3.8.10"
  }
 },
 "nbformat": 4,
 "nbformat_minor": 4
}
