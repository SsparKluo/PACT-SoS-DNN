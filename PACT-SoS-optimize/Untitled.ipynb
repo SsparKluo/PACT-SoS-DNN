{
 "cells": [
  {
   "cell_type": "code",
   "execution_count": null,
   "id": "03930a7e-7460-4a83-b4bb-7f239102c37a",
   "metadata": {
    "tags": []
   },
   "outputs": [],
   "source": [
    "import data_io\n",
    "import network\n",
    "import tensorflow as tf\n",
    "import cv2\n",
    "import os\n",
    "import numpy as np\n",
    "from glob import glob\n",
    "from loss_func import regression_loss\n",
    "from matplotlib import pyplot\n",
    "\n",
    "# os.environ[\"CUDA_VISIBLE_DEVICES\"] = \"-1\"\n",
    "model_file = \"./saved_model/unet6\"\n",
    "\n",
    "model = tf.keras.models.load_model(\n",
    "            model_file, custom_objects={'regression_loss': regression_loss})\n",
    "\n",
    "# model = tf.keras.models.load_model(model_file)\n",
    "test_loader = data_io.ImageGenerator(\n",
    "                batch_size=12,\n",
    "                shuffle=False,\n",
    "                mode='test',\n",
    "                randon_sampling=0,\n",
    "                rotation=False,\n",
    "                transpose=False)"
   ]
  },
  {
   "cell_type": "code",
   "execution_count": null,
   "id": "0f7a18e3-f9be-41e8-8df5-07da0a856dd9",
   "metadata": {},
   "outputs": [],
   "source": [
    "for layer in model.layers:\n",
    "    # check for convolutional layer\n",
    "    if 'conv' not in layer.name:\n",
    "        continue\n",
    "    # get filter weights\n",
    "    filters, biases = layer.get_weights()\n",
    "    print(layer.name, filters.shape)\n",
    "    f_min, f_max = filters.min(), filters.max()\n",
    "    filters = (filters - f_min) / (f_max - f_min)\n",
    "    # plot first few filters\n",
    "    n_filters, ix = 6, 1\n",
    "    for i in range(n_filters):\n",
    "    # get the filter\n",
    "        f = filters[:, :, :, i]\n",
    "        # plot each channel separately\n",
    "        #print(f)\n",
    "        for j in range(3):\n",
    "            # specify subplot and turn of axis\n",
    "            ax = pyplot.subplot(n_filters, 3, ix)\n",
    "            ax.set_xticks([])\n",
    "            ax.set_yticks([])\n",
    "            # plot filter channel in grayscale\n",
    "            pyplot.imshow(f[:, :, j], cmap='gray', vmin=0, vmax=1)\n",
    "            ix += 1\n",
    "        # show the figure\n",
    "        pyplot.show()\n",
    "    "
   ]
  },
  {
   "cell_type": "code",
   "execution_count": null,
   "id": "20c392a2-cf98-4979-8f77-3a1210bce55c",
   "metadata": {
    "tags": []
   },
   "outputs": [],
   "source": [
    "y = model.predict(test_loader)\n",
    "'''\n",
    "batchs = [y[x:x + 12] for x in range(0, len(y), 12)]\n",
    "result = [batch.reshape(4, 3, 256, 256, 1)\n",
    "          .reshape(1024,768) * 255.0 for batch in batchs]\n",
    "'''"
   ]
  },
  {
   "cell_type": "code",
   "execution_count": null,
   "id": "08f987bc-4a17-41ad-8e3e-96d4caaa32e2",
   "metadata": {},
   "outputs": [],
   "source": [
    "for idx, img in enumerate(result):\n",
    "    if idx < 5:\n",
    "        print(img)"
   ]
  },
  {
   "cell_type": "code",
   "execution_count": null,
   "id": "2da9fb45-88c7-4f51-93a6-d9244d30d6e8",
   "metadata": {},
   "outputs": [],
   "source": [
    "pieces = [x for x in y]\n",
    "print(len(pieces))\n",
    "for row in pieces[0]:\n",
    "    for entry in row:\n",
    "        if entry != 0:\n",
    "            print(\"!\")"
   ]
  },
  {
   "cell_type": "code",
   "execution_count": null,
   "id": "2b82a082-e374-413e-a203-4f08c54a38b5",
   "metadata": {},
   "outputs": [],
   "source": [
    "y.shape"
   ]
  },
  {
   "cell_type": "code",
   "execution_count": null,
   "id": "3747ce8f-d625-4c44-aa0d-7923a2e91d3e",
   "metadata": {},
   "outputs": [],
   "source": [
    "i = 0\n",
    "for idx, b in enumerate(y):\n",
    "    # ax = pyplot.subplot(4, 6, idx%4*6 + idx//4 + 3 + 1)\n",
    "    #ax.set_xticks([])\n",
    "    #ax.set_yticks([])\n",
    "    if i == 0:\n",
    "        fig, ax = pyplot.subplots(4, 3, figsize=(20, 20))\n",
    "        pyplot.subplots_adjust(wspace=-0.52, hspace=0)\n",
    "    ax[idx % 4, idx // 4 % 3].imshow(b[:,:,0], cmap='gray', vmin=-1, vmax=1)\n",
    "    ax[idx % 4, idx // 4 % 3].set_xticks([])\n",
    "    ax[idx % 4, idx // 4 % 3].set_yticks([])\n",
    "    ax[idx % 4, idx // 4 % 3].axis('off')\n",
    "    i += 1\n",
    "    if i == 12:\n",
    "        pyplot.savefig(\"./figure/output/{}.png\".format((idx+1) // 12))\n",
    "        i = 0"
   ]
  },
  {
   "cell_type": "code",
   "execution_count": null,
   "id": "6bf26c3f-7247-4998-a1ec-a8498999347f",
   "metadata": {},
   "outputs": [],
   "source": [
    "import data_io\n",
    "import network\n",
    "import tensorflow as tf\n",
    "import cv2\n",
    "import os\n",
    "import numpy as np\n",
    "from glob import glob\n",
    "from loss_func import regression_loss\n",
    "from matplotlib import pyplot\n",
    "\n",
    "model = network.UNet(img_shape=(256, 256, 8), out_ch=1, start_ch=64, depth=4,\n",
    "                      inc_rate=2., activation='relu', dropout=0.5, batchnorm=False,\n",
    "                      maxpool=True, upconv=True, residual=False)\n",
    "\n",
    "model.compile(loss=regression_loss)\n",
    "\n",
    "test_loader = data_io.SequenceData(\n",
    "                batch_size=12,\n",
    "                shuffle=False,\n",
    "                mode='test',\n",
    "                randon_sampling=0,\n",
    "                rotation=False,\n",
    "                transpose=False)\n",
    "\n",
    "y = model.predict(test_loader)\n",
    "pieces = [x for x in y]\n",
    "print(len(pieces))\n",
    "for row in pieces[0]:\n",
    "    for entry in row:\n",
    "        if entry != 0:\n",
    "            print(\"!\")"
   ]
  },
  {
   "cell_type": "code",
   "execution_count": null,
   "id": "09982511-dd48-47e5-8175-cc3cf281180a",
   "metadata": {},
   "outputs": [],
   "source": []
  }
 ],
 "metadata": {
  "kernelspec": {
   "display_name": "Python 3 (ipykernel)",
   "language": "python",
   "name": "python3"
  },
  "language_info": {
   "codemirror_mode": {
    "name": "ipython",
    "version": 3
   },
   "file_extension": ".py",
   "mimetype": "text/x-python",
   "name": "python",
   "nbconvert_exporter": "python",
   "pygments_lexer": "ipython3",
   "version": "3.8.10"
  }
 },
 "nbformat": 4,
 "nbformat_minor": 5
}
