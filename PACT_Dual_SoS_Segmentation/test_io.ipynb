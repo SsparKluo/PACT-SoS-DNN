{
 "cells": [
  {
   "cell_type": "markdown",
   "metadata": {},
   "source": [
    "#### Check the shape of output"
   ]
  },
  {
   "cell_type": "code",
   "execution_count": null,
   "metadata": {},
   "outputs": [],
   "source": [
    "import data_io\n",
    "\n",
    "loader = data_io.ImageDataGenerator2(batch_size=1, shuffle=False)\n",
    "\n",
    "for epoch in range(1):\n",
    "    for batch_number, (x, y) in enumerate(loader):\n",
    "        print(\"batch {}:\".format(batch_number))\n",
    "        print('x_batch:', x.shape)\n",
    "        print('y_batch:', y.shape)\n",
    "    print('一个epoch结束=============================')"
   ]
  },
  {
   "cell_type": "code",
   "execution_count": null,
   "metadata": {},
   "outputs": [],
   "source": [
    "import data_io\n",
    "\n",
    "loader = data_io.RawDataGenerator(batch_size=1, shuffle=False)\n",
    "\n",
    "for epoch in range(1):\n",
    "    for batch_number, (x, y) in enumerate(loader):\n",
    "        print(\"batch {}:\".format(batch_number))\n",
    "        print('x_batch:', x.shape)\n",
    "        print('y_batch:', y.shape)\n",
    "    print('一个epoch结束=============================')"
   ]
  },
  {
   "cell_type": "markdown",
   "metadata": {},
   "source": [
    "#### Check the correctness of inputs"
   ]
  },
  {
   "cell_type": "code",
   "execution_count": null,
   "metadata": {},
   "outputs": [],
   "source": [
    "import data_io\n",
    "from matplotlib import pyplot as plt\n",
    "\n",
    "bs = 8\n",
    "loader = data_io.ImageDataGenerator(batch_size=bs, shuffle=False)\n",
    "\n",
    "for epoch in range(1):\n",
    "    for batch_number, (x, y) in enumerate(loader):\n",
    "        print(\"batch {}:\".format(batch_number))\n",
    "        fig, ax  = plt.subplots(bs, 2, figsize=(40, 30))\n",
    "        plt.subplots_adjust(wspace=0, hspace=0)\n",
    "        for i in range(bs):\n",
    "            ax[i,0].set_xticks([])\n",
    "            ax[i,0].set_yticks([])\n",
    "            ax[i,0].imshow(x[i,:,:], cmap='gray')\n",
    "            ax[i,1].set_xticks([])\n",
    "            ax[i,1].set_yticks([])\n",
    "            ax[i,1].imshow(y[i,:,:], cmap='gray')\n",
    "        plt.show() "
   ]
  },
  {
   "cell_type": "code",
   "execution_count": null,
   "metadata": {},
   "outputs": [],
   "source": [
    "import data_io\n",
    "from matplotlib import pyplot as plt\n",
    "gt_loader = data_io.ImageDataGenerator(\n",
    "    batch_size=1,\n",
    "    shuffle=False,\n",
    "    mode='test',\n",
    "    data_augmentation=False)\n",
    "\n",
    "for i in range(10):\n",
    "    _, gt = gt_loader.__getitem__(i)\n",
    "    plt.imshow(gt[0,:,:])  \n",
    "    plt.show()"
   ]
  },
  {
   "cell_type": "code",
   "execution_count": null,
   "metadata": {},
   "outputs": [],
   "source": [
    "import data_io\n",
    "from matplotlib import pyplot as plt\n",
    "\n",
    "bs = 8\n",
    "loader = data_io.ImageDataGenerator2(batch_size=bs, shuffle=False)\n",
    "\n",
    "for epoch in range(1):\n",
    "    for batch_number, (x, y) in enumerate(loader):\n",
    "        print(\"batch {}:\".format(batch_number))\n",
    "        fig, ax  = plt.subplots(bs, 2, figsize=(40, 30))\n",
    "        plt.subplots_adjust(wspace=0, hspace=0)\n",
    "        for i in range(bs):\n",
    "            ax[i,0].set_xticks([])\n",
    "            ax[i,0].set_yticks([])\n",
    "            ax[i,0].imshow(x[i,:,:], cmap='gray')\n",
    "            ax[i,1].plot(y[i,:])\n",
    "        plt.show() "
   ]
  },
  {
   "cell_type": "code",
   "execution_count": null,
   "metadata": {},
   "outputs": [],
   "source": [
    "import data_io\n",
    "from matplotlib import pyplot as plt\n",
    "\n",
    "bs = 4\n",
    "loader = data_io.RawDataGenerator(batch_size=4, shuffle=False)\n",
    "\n",
    "for epoch in range(1):\n",
    "    for batch_number, (x, y) in enumerate(loader):\n",
    "        print(\"batch {}:\".format(batch_number))\n",
    "        fig, ax  = plt.subplots(bs, 2, figsize=(40, 30))\n",
    "        for i in range(bs):\n",
    "            ax[i,0].imshow(x[i,500,:,0,:], cmap='gray')\n",
    "            ax[i,1].imshow(y[i,500,:,:], cmap='gray')\n",
    "        plt.show() "
   ]
  }
 ],
 "metadata": {
  "kernelspec": {
   "display_name": "Python 3 (ipykernel)",
   "language": "python",
   "name": "python3"
  },
  "language_info": {
   "codemirror_mode": {
    "name": "ipython",
    "version": 3
   },
   "file_extension": ".py",
   "mimetype": "text/x-python",
   "name": "python",
   "nbconvert_exporter": "python",
   "pygments_lexer": "ipython3",
   "version": "3.7.3"
  },
  "vscode": {
   "interpreter": {
    "hash": "17f8dacbcae502237c0238b1bfe850fc3d79496547eccc9ebe3ada7d629b8bb2"
   }
  }
 },
 "nbformat": 4,
 "nbformat_minor": 4
}
