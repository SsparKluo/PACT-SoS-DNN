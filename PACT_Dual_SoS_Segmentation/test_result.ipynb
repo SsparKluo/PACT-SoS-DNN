{
 "cells": [
  {
   "cell_type": "code",
   "execution_count": null,
   "metadata": {},
   "outputs": [],
   "source": [
    "import data_io\n",
    "from tensorflow.keras.models import load_model\n",
    "\n",
    "model_file = \"./saved_model/unet_with_dense\"\n",
    "model = load_model(model_file)\n",
    "\n",
    "test_loader = data_io.ImageDataGenerator(\n",
    "    batch_size=1,\n",
    "    shuffle=False,\n",
    "    mode='test',\n",
    "    data_augmentation=False)\n",
    "y = model.predict(test_loader)\n"
   ]
  },
  {
   "cell_type": "code",
   "execution_count": null,
   "metadata": {},
   "outputs": [],
   "source": [
    "from matplotlib import pyplot as plt\n",
    "from glob import glob\n",
    "\n",
    "gt_loader = data_io.ImageDataGenerator(\n",
    "    batch_size=1,\n",
    "    shuffle=False,\n",
    "    mode='test',\n",
    "    data_augmentation=False)\n",
    "\n",
    "for idx, img in enumerate(y):\n",
    "    print(img.shape)\n",
    "    fig, ax  = plt.subplots(1, 2, figsize=(40, 30))\n",
    "    ax[0].plot(y[0,:,:])\n",
    "    _, gt = gt_loader.__getitem__(idx)\n",
    "    ax[1].set_xticks([])\n",
    "    ax[1].set_yticks([])\n",
    "    ax[1].imshow(gt[0,:,:], cmap='gray')\n",
    "    plt.show() "
   ]
  },
  {
   "cell_type": "code",
   "execution_count": null,
   "metadata": {},
   "outputs": [],
   "source": []
  }
 ],
 "metadata": {
  "kernelspec": {
   "display_name": "Python 3 (ipykernel)",
   "language": "python",
   "name": "python3"
  },
  "language_info": {
   "codemirror_mode": {
    "name": "ipython",
    "version": 3
   },
   "file_extension": ".py",
   "mimetype": "text/x-python",
   "name": "python",
   "nbconvert_exporter": "python",
   "pygments_lexer": "ipython3",
   "version": "3.8.10"
  }
 },
 "nbformat": 4,
 "nbformat_minor": 4
}
