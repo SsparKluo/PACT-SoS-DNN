{
 "cells": [
  {
   "cell_type": "code",
   "execution_count": null,
   "metadata": {},
   "outputs": [],
   "source": [
    "import data_io\n",
    "from tensorflow.keras.models import load_model\n",
    "\n",
    "model_file = \"./saved_model/cnn_dense_FT4\"\n",
    "model = load_model(model_file)\n",
    "\n",
    "test_loader = data_io.ImageDataGenerator(\n",
    "    batch_size=1,\n",
    "    shuffle=False,\n",
    "    mode='test',\n",
    "    overlying=False,\n",
    "    data_augmentation=False)\n",
    "y = model.predict(test_loader)\n"
   ]
  },
  {
   "cell_type": "code",
   "execution_count": null,
   "metadata": {},
   "outputs": [],
   "source": [
    "from matplotlib import pyplot as plt\n",
    "from glob import glob\n",
    "\n",
    "gt_loader = data_io.ImageDataGenerator(\n",
    "    batch_size=1,\n",
    "    shuffle=False,\n",
    "    mode='test',\n",
    "    data_augmentation=False)\n",
    "\n",
    "for idx, img in enumerate(y):\n",
    "    print(img.shape)\n",
    "    fig, ax  = plt.subplots(1, 2, figsize=(40, 30))\n",
    "    ax[0].plot(y[idx,:,:])\n",
    "    _, gt = gt_loader.__getitem__(idx)\n",
    "    ax[1].set_xticks([])\n",
    "    ax[1].set_yticks([])\n",
    "    ax[1].imshow(gt[0,:,:], cmap='gray')\n",
    "    plt.show() "
   ]
  },
  {
   "cell_type": "code",
   "execution_count": null,
   "metadata": {},
   "outputs": [],
   "source": [
    "from matplotlib import pyplot as plt\n",
    "from glob import glob\n",
    "\n",
    "gt_loader = data_io.ImageDataGenerator(\n",
    "    batch_size=1,\n",
    "    shuffle=False,\n",
    "    mode='test',\n",
    "    data_augmentation=False)\n",
    "\n",
    "for idx, img in enumerate(y):\n",
    "    print(img.shape)\n",
    "    fig, ax  = plt.subplots(1, 2, figsize=(40, 30))\n",
    "    ax[0].set_xticks([])\n",
    "    ax[0].set_yticks([])\n",
    "    ax[0].imshow(y[idx,:,:], cmap='gray')\n",
    "    _, gt = gt_loader.__getitem__(idx)\n",
    "    ax[1].set_xticks([])\n",
    "    ax[1].set_yticks([])\n",
    "    ax[1].imshow(gt[0,:,:], cmap='gray')\n",
    "    plt.show() \n",
    "\n"
   ]
  },
  {
   "cell_type": "markdown",
   "metadata": {},
   "source": [
    "# Test result"
   ]
  },
  {
   "cell_type": "code",
   "execution_count": null,
   "metadata": {},
   "outputs": [],
   "source": [
    "import data_io\n",
    "from tensorflow.keras.models import load_model\n",
    "from matplotlib import pyplot as plt\n",
    "from glob import glob\n",
    "\n",
    "model_file = \"./saved_model/cnn_dense_FT4\"\n",
    "model = load_model(model_file)\n",
    "\n",
    "test_loader = data_io.ImageDataGenerator(\n",
    "    batch_size=1,\n",
    "    shuffle=False,\n",
    "    mode='test',\n",
    "    overlying=False,\n",
    "    data_augmentation=False)\n",
    "y = model.predict(test_loader)\n",
    "\n",
    "gt_loader = data_io.ImageDataGenerator(\n",
    "    batch_size=1,\n",
    "    shuffle=False,\n",
    "    mode='test',\n",
    "    overlying=False,\n",
    "    data_augmentation=False)\n",
    "\n",
    "for idx, img in enumerate(y):\n",
    "    print(img.shape)\n",
    "    fig, ax = plt.subplots(1, 3, figsize=(40, 30))\n",
    "    x, gt = gt_loader.__getitem__(idx)\n",
    "    ax[0].title(\"Neural network input\")\n",
    "    ax[0].set_xticks([])\n",
    "    ax[0].set_yticks([])\n",
    "    ax[0].imshow(x[0, :, :], cmap='gray')\n",
    "    ax[1].title(\"Neural network output\")\n",
    "    ax[1].set_xticks([])\n",
    "    ax[1].set_yticks([])\n",
    "    ax[1].imshow(y[idx, :, :], cmap='gray', vmin=0, vmax=0.5)\n",
    "    ax[2].title(\"Ground truth\")\n",
    "    ax[2].set_xticks([])\n",
    "    ax[2].set_yticks([])\n",
    "    ax[2].imshow(gt[0, :, :], cmap='gray')\n",
    "    plt.show()\n"
   ]
  }
 ],
 "metadata": {
  "kernelspec": {
   "display_name": "Python 3 (ipykernel)",
   "language": "python",
   "name": "python3"
  },
  "language_info": {
   "codemirror_mode": {
    "name": "ipython",
    "version": 3
   },
   "file_extension": ".py",
   "mimetype": "text/x-python",
   "name": "python",
   "nbconvert_exporter": "python",
   "pygments_lexer": "ipython3",
   "version": "3.8.10"
  }
 },
 "nbformat": 4,
 "nbformat_minor": 4
}
