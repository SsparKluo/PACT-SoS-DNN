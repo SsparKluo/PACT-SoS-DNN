{
 "cells": [
  {
   "cell_type": "code",
   "execution_count": null,
   "id": "dc798bbf-891f-48f7-80b7-1f230617572f",
   "metadata": {},
   "outputs": [],
   "source": [
    "import data_io\n",
    "import network\n",
    "import tensorflow as tf\n",
    "import cv2\n",
    "import os\n",
    "import numpy as np\n",
    "from glob import glob\n",
    "from matplotlib import pyplot\n",
    "\n",
    "model_file = \"./saved_model/cnn_dense\"\n",
    "model = tf.keras.models.load_model(model_file)\n",
    "\n",
    "for layer in model.layers:\n",
    "    # check for convolutional layer\n",
    "    if 'conv2d' not in layer.name:\n",
    "        continue\n",
    "    # get filter weights\n",
    "    filters, biases = layer.get_weights()\n",
    "    print(layer.name, filters.shape)\n",
    "    f_min, f_max = filters.min(), filters.max()\n",
    "    filters = (filters - f_min) / (f_max - f_min)\n",
    "    # plot first few filters\n",
    "    n_filters, ix = 6, 1\n",
    "    for i in range(n_filters):\n",
    "    # get the filter\n",
    "        f = filters[:, :, :, i]\n",
    "        # plot each channel separately\n",
    "        #print(f)\n",
    "        for j in range(1):\n",
    "            # specify subplot and turn of axis\n",
    "            ax = pyplot.subplot(n_filters, ix, 1)\n",
    "            ax.set_xticks([])\n",
    "            ax.set_yticks([])\n",
    "            # plot filter channel in grayscale\n",
    "            pyplot.imshow(f[:, :, j], cmap='gray', vmin=0, vmax=1)\n",
    "            ix += 1\n",
    "        # show the figure\n",
    "        pyplot.show()"
   ]
  },
  {
   "cell_type": "code",
   "execution_count": null,
   "id": "d0ec77ea-321c-4efd-9745-1a3151f81544",
   "metadata": {},
   "outputs": [],
   "source": [
    "for layer in model.layers:\n",
    "    # check for convolutional layer\n",
    "    if 'conv1d' not in layer.name:\n",
    "        continue\n",
    "    # get filter weights\n",
    "    filters, biases = layer.get_weights()\n",
    "    print(layer.name, filters.shape)\n",
    "    f_min, f_max = filters.min(), filters.max()\n",
    "    filters = (filters - f_min) / (f_max - f_min)\n",
    "    # plot first few filters\n",
    "    n_filters, ix = 1, 1\n",
    "    for i in range(n_filters):\n",
    "    # get the filter\n",
    "        f = filters[:, :, i]\n",
    "        # plot each channel separately\n",
    "        #print(f)\n",
    "        for j in range(1):\n",
    "            # specify subplot and turn of axis\n",
    "            ax = pyplot.subplot(n_filters, ix, 1)\n",
    "            ax.set_xticks([])\n",
    "            ax.set_yticks([])\n",
    "            # plot filter channel in grayscale\n",
    "            pyplot.plot(f[:,j])\n",
    "            ix += 1\n",
    "        # show the figure\n",
    "        pyplot.show()"
   ]
  },
  {
   "cell_type": "code",
   "execution_count": 1,
   "id": "817ec4ad-edaf-48e5-b1d6-eca8db9b4d99",
   "metadata": {},
   "outputs": [
    {
     "name": "stderr",
     "output_type": "stream",
     "text": [
      "2022-07-11 23:56:01.443286: I tensorflow/stream_executor/platform/default/dso_loader.cc:53] Successfully opened dynamic library libcudart.so.11.0\n",
      "2022-07-11 23:56:07.449583: I tensorflow/stream_executor/platform/default/dso_loader.cc:53] Successfully opened dynamic library libcuda.so.1\n",
      "2022-07-11 23:56:07.463272: E tensorflow/stream_executor/cuda/cuda_driver.cc:328] failed call to cuInit: CUDA_ERROR_NO_DEVICE: no CUDA-capable device is detected\n",
      "2022-07-11 23:56:07.463325: I tensorflow/stream_executor/cuda/cuda_diagnostics.cc:163] no NVIDIA GPU device is present: /dev/nvidia0 does not exist\n",
      "2022-07-11 23:56:07.463882: I tensorflow/core/platform/cpu_feature_guard.cc:142] This TensorFlow binary is optimized with oneAPI Deep Neural Network Library (oneDNN) to use the following CPU instructions in performance-critical operations:  AVX2 AVX512F FMA\n",
      "To enable them in other operations, rebuild TensorFlow with the appropriate compiler flags.\n"
     ]
    }
   ],
   "source": [
    "import data_io\n",
    "import network\n",
    "import tensorflow as tf\n",
    "import cv2\n",
    "import os\n",
    "import numpy as np\n",
    "from glob import glob\n",
    "from matplotlib import pyplot\n",
    "\n",
    "model_file = \"./saved_model/unet_forFT\"\n",
    "model = tf.keras.models.load_model(model_file)\n"
   ]
  },
  {
   "cell_type": "code",
   "execution_count": 11,
   "id": "6442e50f-538c-4a80-b833-a8efe0c9f497",
   "metadata": {},
   "outputs": [
    {
     "data": {
      "text/plain": [
       "[]"
      ]
     },
     "execution_count": 11,
     "metadata": {},
     "output_type": "execute_result"
    }
   ],
   "source": [
    "model.layers[4].get_weights()"
   ]
  },
  {
   "cell_type": "code",
   "execution_count": null,
   "id": "c7ab0ce0-ff84-477d-a45f-d5d73f922b9e",
   "metadata": {},
   "outputs": [],
   "source": []
  }
 ],
 "metadata": {
  "kernelspec": {
   "display_name": "Python 3 (ipykernel)",
   "language": "python",
   "name": "python3"
  },
  "language_info": {
   "codemirror_mode": {
    "name": "ipython",
    "version": 3
   },
   "file_extension": ".py",
   "mimetype": "text/x-python",
   "name": "python",
   "nbconvert_exporter": "python",
   "pygments_lexer": "ipython3",
   "version": "3.8.10"
  }
 },
 "nbformat": 4,
 "nbformat_minor": 5
}
