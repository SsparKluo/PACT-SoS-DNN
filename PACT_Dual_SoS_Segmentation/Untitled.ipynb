{
 "cells": [
  {
   "cell_type": "code",
   "execution_count": null,
   "id": "dc798bbf-891f-48f7-80b7-1f230617572f",
   "metadata": {},
   "outputs": [],
   "source": [
    "import data_io\n",
    "import network\n",
    "import tensorflow as tf\n",
    "import cv2\n",
    "import os\n",
    "import numpy as np\n",
    "from glob import glob\n",
    "from matplotlib import pyplot\n",
    "\n",
    "model_file = \"./saved_model/cnn_dense\"\n",
    "model = tf.keras.models.load_model(model_file)\n",
    "\n",
    "for layer in model.layers:\n",
    "    # check for convolutional layer\n",
    "    if 'conv2d' not in layer.name:\n",
    "        continue\n",
    "    # get filter weights\n",
    "    filters, biases = layer.get_weights()\n",
    "    print(layer.name, filters.shape)\n",
    "    f_min, f_max = filters.min(), filters.max()\n",
    "    filters = (filters - f_min) / (f_max - f_min)\n",
    "    # plot first few filters\n",
    "    n_filters, ix = 6, 1\n",
    "    for i in range(n_filters):\n",
    "    # get the filter\n",
    "        f = filters[:, :, :, i]\n",
    "        # plot each channel separately\n",
    "        #print(f)\n",
    "        for j in range(1):\n",
    "            # specify subplot and turn of axis\n",
    "            ax = pyplot.subplot(n_filters, ix, 1)\n",
    "            ax.set_xticks([])\n",
    "            ax.set_yticks([])\n",
    "            # plot filter channel in grayscale\n",
    "            pyplot.imshow(f[:, :, j], cmap='gray', vmin=0, vmax=1)\n",
    "            ix += 1\n",
    "        # show the figure\n",
    "        pyplot.show()"
   ]
  },
  {
   "cell_type": "code",
   "execution_count": null,
   "id": "d0ec77ea-321c-4efd-9745-1a3151f81544",
   "metadata": {},
   "outputs": [],
   "source": [
    "for layer in model.layers:\n",
    "    # check for convolutional layer\n",
    "    if 'conv1d' not in layer.name:\n",
    "        continue\n",
    "    # get filter weights\n",
    "    filters, biases = layer.get_weights()\n",
    "    print(layer.name, filters.shape)\n",
    "    f_min, f_max = filters.min(), filters.max()\n",
    "    filters = (filters - f_min) / (f_max - f_min)\n",
    "    # plot first few filters\n",
    "    n_filters, ix = 1, 1\n",
    "    for i in range(n_filters):\n",
    "    # get the filter\n",
    "        f = filters[:, :, i]\n",
    "        # plot each channel separately\n",
    "        #print(f)\n",
    "        for j in range(1):\n",
    "            # specify subplot and turn of axis\n",
    "            ax = pyplot.subplot(n_filters, ix, 1)\n",
    "            ax.set_xticks([])\n",
    "            ax.set_yticks([])\n",
    "            # plot filter channel in grayscale\n",
    "            pyplot.plot(f[:,j])\n",
    "            ix += 1\n",
    "        # show the figure\n",
    "        pyplot.show()"
   ]
  },
  {
   "cell_type": "code",
   "execution_count": null,
   "id": "817ec4ad-edaf-48e5-b1d6-eca8db9b4d99",
   "metadata": {},
   "outputs": [],
   "source": [
    "import data_io\n",
    "import network\n",
    "import tensorflow as tf\n",
    "import cv2\n",
    "import os\n",
    "import numpy as np\n",
    "from glob import glob\n",
    "from matplotlib import pyplot\n",
    "\n",
    "model_file = \"./saved_model/unet_forFT\"\n",
    "model = tf.keras.models.load_model(model_file)\n"
   ]
  },
  {
   "cell_type": "code",
   "execution_count": null,
   "id": "6442e50f-538c-4a80-b833-a8efe0c9f497",
   "metadata": {},
   "outputs": [],
   "source": [
    "model.layers[4].get_weights()"
   ]
  },
  {
   "cell_type": "code",
   "execution_count": null,
   "id": "c7ab0ce0-ff84-477d-a45f-d5d73f922b9e",
   "metadata": {},
   "outputs": [],
   "source": [
    "import data_io\n",
    "import network\n",
    "import tensorflow as tf\n",
    "import cv2\n",
    "import os\n",
    "import numpy as np\n",
    "from glob import glob\n",
    "from matplotlib import pyplot\n",
    "\n",
    "model = network.unet_with_dense()"
   ]
  },
  {
   "cell_type": "code",
   "execution_count": null,
   "id": "97f97d0f-f045-4a74-89c6-527403e1a53b",
   "metadata": {},
   "outputs": [],
   "source": [
    "for layer in model.layers:\n",
    "    print(layer.name)"
   ]
  },
  {
   "cell_type": "code",
   "execution_count": null,
   "id": "6dcb362e-c23b-43d2-a36d-ecc54b7f6c3e",
   "metadata": {},
   "outputs": [],
   "source": []
  }
 ],
 "metadata": {
  "kernelspec": {
   "display_name": "Python 3 (ipykernel)",
   "language": "python",
   "name": "python3"
  },
  "language_info": {
   "codemirror_mode": {
    "name": "ipython",
    "version": 3
   },
   "file_extension": ".py",
   "mimetype": "text/x-python",
   "name": "python",
   "nbconvert_exporter": "python",
   "pygments_lexer": "ipython3",
   "version": "3.8.10"
  }
 },
 "nbformat": 4,
 "nbformat_minor": 5
}
