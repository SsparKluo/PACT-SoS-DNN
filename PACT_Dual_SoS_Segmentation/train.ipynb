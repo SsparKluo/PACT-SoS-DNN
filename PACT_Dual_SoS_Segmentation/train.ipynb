{
 "cells": [
  {
   "cell_type": "markdown",
   "metadata": {},
   "source": [
    "##### Basic configuration"
   ]
  },
  {
   "cell_type": "code",
   "execution_count": null,
   "metadata": {},
   "outputs": [],
   "source": [
    "bs = 12\n",
    "saved_model = './saved_model/unet'"
   ]
  },
  {
   "cell_type": "markdown",
   "metadata": {},
   "source": [
    "##### Load data"
   ]
  },
  {
   "cell_type": "code",
   "execution_count": null,
   "metadata": {},
   "outputs": [],
   "source": [
    "import data_io\n",
    "\n",
    "trainset_loader = data_io.ImageDataGenerator2(batch_size=bs)\n",
    "validset_loader = data_io.ImageDataGenerator2(batch_size=bs, mode='valid')"
   ]
  },
  {
   "cell_type": "markdown",
   "metadata": {},
   "source": [
    "##### Train\n",
    "1. **Compile the network**: using the BinaryCrossentropy as loss function and the Adam as optimizor.\n",
    "2. **Set 2 callbacks**: to automatically reduce learning rate when the val_loss is not improved in a period of time and to stop the trainning if reduce lr cannot improve the performance."
   ]
  },
  {
   "cell_type": "code",
   "execution_count": null,
   "metadata": {},
   "outputs": [],
   "source": [
    "from tensorflow.keras.utils import plot_model\n",
    "from tensorflow.keras.callbacks import ReduceLROnPlateau, EarlyStopping\n",
    "from tensorflow.keras.losses import BinaryCrossentropy\n",
    "import tensorflow.keras.optimizers as optim\n",
    "import network\n",
    "import os\n",
    "\n",
    "os.environ[\"CUDA_VISIBLE_DEVICES\"] = \"-1\"\n",
    "\n",
    "model = network.cnn_dense()\n",
    "model.summary()\n",
    "model.compile(loss=BinaryCrossentropy(from_logits=False), optimizer=optim.Adam())\n",
    "\n",
    "\n",
    "reduce_lr = ReduceLROnPlateau(\n",
    "    verbose=1, factor=0.1, min_delta=0.1, monitor='val_loss', patience=10,\n",
    "    mode='auto', min_lr=0.00001)\n",
    "stop_condition = EarlyStopping(\n",
    "    monitor='val_loss', patience=21, min_delta=0.1)\n",
    "\n",
    "history = model.fit(trainset_loader, batch_size=bs, epochs=100,\n",
    "                    validation_data=validset_loader, workers=16, max_queue_size=16,\n",
    "                    callbacks=[reduce_lr, stop_condition])\n",
    "\n",
    "model.save(saved_model)"
   ]
  },
  {
   "cell_type": "code",
   "execution_count": null,
   "metadata": {},
   "outputs": [],
   "source": [
    "from matplotlib import pyplot as plt\n",
    "\n",
    "plt.plot(history.history['loss'])\n",
    "plt.plot(history.history['val_loss'])\n",
    "plt.title('Model loss')\n",
    "plt.ylabel('Loss')\n",
    "plt.xlabel('Epoch')\n",
    "plt.legend(['Train', 'Test'], loc='upper left')\n",
    "plt.savefig('./figure/UNet - Model loss6.jpg')"
   ]
  }
 ],
 "metadata": {
  "kernelspec": {
   "display_name": "Python 3.7.3 ('BME6008')",
   "language": "python",
   "name": "python3"
  },
  "language_info": {
   "codemirror_mode": {
    "name": "ipython",
    "version": 3
   },
   "file_extension": ".py",
   "mimetype": "text/x-python",
   "name": "python",
   "nbconvert_exporter": "python",
   "pygments_lexer": "ipython3",
   "version": "3.7.3"
  },
  "orig_nbformat": 4,
  "vscode": {
   "interpreter": {
    "hash": "17f8dacbcae502237c0238b1bfe850fc3d79496547eccc9ebe3ada7d629b8bb2"
   }
  }
 },
 "nbformat": 4,
 "nbformat_minor": 2
}
